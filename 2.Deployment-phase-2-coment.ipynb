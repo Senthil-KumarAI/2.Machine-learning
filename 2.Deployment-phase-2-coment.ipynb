{
 "cells": [
  {
   "cell_type": "code",
   "execution_count": 3,
   "id": "72353db1-5b29-4057-b54d-05be39e9544c",
   "metadata": {},
   "outputs": [],
   "source": [
    "import pickle\n",
    "#import the pickle model "
   ]
  },
  {
   "cell_type": "code",
   "execution_count": 6,
   "id": "0de037eb-f603-4eb3-9564-9cc5d088b2b8",
   "metadata": {},
   "outputs": [
    {
     "name": "stderr",
     "output_type": "stream",
     "text": [
      "C:\\Anaconda3\\Lib\\site-packages\\sklearn\\base.py:493: UserWarning: X does not have valid feature names, but LinearRegression was fitted with feature names\n",
      "  warnings.warn(\n"
     ]
    }
   ],
   "source": [
    "loaded_model=pickle.load(open(\"finalized_model_linear.sav\",'rb'))\n",
    "result=loaded_model.predict([[13]])\n",
    "#load the model and save it in result variable"
   ]
  },
  {
   "cell_type": "code",
   "execution_count": 8,
   "id": "7432daab-7c87-42bb-93d4-4dd4a35319da",
   "metadata": {},
   "outputs": [
    {
     "data": {
      "text/plain": [
       "array([[148460.78806172]])"
      ]
     },
     "execution_count": 8,
     "metadata": {},
     "output_type": "execute_result"
    }
   ],
   "source": [
    "result\n",
    "#call the result variable"
   ]
  },
  {
   "cell_type": "code",
   "execution_count": null,
   "id": "57f20a0b-f516-4f59-86ae-0868afb34f9c",
   "metadata": {},
   "outputs": [],
   "source": []
  }
 ],
 "metadata": {
  "kernelspec": {
   "display_name": "Python 3 (ipykernel)",
   "language": "python",
   "name": "python3"
  },
  "language_info": {
   "codemirror_mode": {
    "name": "ipython",
    "version": 3
   },
   "file_extension": ".py",
   "mimetype": "text/x-python",
   "name": "python",
   "nbconvert_exporter": "python",
   "pygments_lexer": "ipython3",
   "version": "3.12.7"
  }
 },
 "nbformat": 4,
 "nbformat_minor": 5
}
